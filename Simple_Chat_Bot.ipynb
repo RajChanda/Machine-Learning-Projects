{
  "nbformat": 4,
  "nbformat_minor": 0,
  "metadata": {
    "colab": {
      "provenance": [],
      "gpuType": "T4"
    },
    "kernelspec": {
      "name": "python3",
      "display_name": "Python 3"
    },
    "language_info": {
      "name": "python"
    },
    "accelerator": "GPU"
  },
  "cells": [
    {
      "cell_type": "code",
      "execution_count": 1,
      "metadata": {
        "id": "fPAK-lt3-IEg"
      },
      "outputs": [],
      "source": [
        "import pickle\n",
        "import numpy as np"
      ]
    },
    {
      "cell_type": "code",
      "source": [
        "with open('train_qa.txt', 'rb') as f:\n",
        "  train_data = pickle.load(f)"
      ],
      "metadata": {
        "id": "q-P-g34O-Rg1"
      },
      "execution_count": 2,
      "outputs": []
    },
    {
      "cell_type": "code",
      "source": [
        "with open('test_qa.txt', 'rb') as f:\n",
        "  test_data = pickle.load(f)"
      ],
      "metadata": {
        "id": "bQawFCNA-lHw"
      },
      "execution_count": 3,
      "outputs": []
    },
    {
      "cell_type": "code",
      "source": [
        "type(train_data)"
      ],
      "metadata": {
        "colab": {
          "base_uri": "https://localhost:8080/"
        },
        "id": "c_JH0AWR-q-S",
        "outputId": "2d2fb2be-5776-479b-fb0f-97ebd5884726"
      },
      "execution_count": 4,
      "outputs": [
        {
          "output_type": "execute_result",
          "data": {
            "text/plain": [
              "list"
            ]
          },
          "metadata": {},
          "execution_count": 4
        }
      ]
    },
    {
      "cell_type": "code",
      "source": [
        "train_data[0]"
      ],
      "metadata": {
        "colab": {
          "base_uri": "https://localhost:8080/"
        },
        "id": "X98o4caG-wjG",
        "outputId": "cf665d59-7dd3-4210-840b-7d235dc35437"
      },
      "execution_count": 5,
      "outputs": [
        {
          "output_type": "execute_result",
          "data": {
            "text/plain": [
              "(['Mary',\n",
              "  'moved',\n",
              "  'to',\n",
              "  'the',\n",
              "  'bathroom',\n",
              "  '.',\n",
              "  'Sandra',\n",
              "  'journeyed',\n",
              "  'to',\n",
              "  'the',\n",
              "  'bedroom',\n",
              "  '.'],\n",
              " ['Is', 'Sandra', 'in', 'the', 'hallway', '?'],\n",
              " 'no')"
            ]
          },
          "metadata": {},
          "execution_count": 5
        }
      ]
    },
    {
      "cell_type": "code",
      "source": [
        "print(' '.join(train_data[0][0]))"
      ],
      "metadata": {
        "colab": {
          "base_uri": "https://localhost:8080/"
        },
        "id": "g1IqTZQw-zqF",
        "outputId": "bcb37e1a-50be-4071-f06e-ad9d65e17d55"
      },
      "execution_count": 6,
      "outputs": [
        {
          "output_type": "stream",
          "name": "stdout",
          "text": [
            "Mary moved to the bathroom . Sandra journeyed to the bedroom .\n"
          ]
        }
      ]
    },
    {
      "cell_type": "code",
      "source": [
        "all_data = test_data + train_data"
      ],
      "metadata": {
        "id": "vcMoVYS__HA4"
      },
      "execution_count": 7,
      "outputs": []
    },
    {
      "cell_type": "code",
      "source": [
        "print(len(all_data), len(test_data), len(train_data))"
      ],
      "metadata": {
        "colab": {
          "base_uri": "https://localhost:8080/"
        },
        "id": "5ntx1dq2_ZIn",
        "outputId": "876aba0c-de40-437d-e8c8-d7edece6d6ec"
      },
      "execution_count": 8,
      "outputs": [
        {
          "output_type": "stream",
          "name": "stdout",
          "text": [
            "11000 1000 10000\n"
          ]
        }
      ]
    },
    {
      "cell_type": "code",
      "source": [
        "vocab = set()\n",
        "\n",
        "for story, question, answer in all_data:\n",
        "  vocab = vocab.union(set(story))\n",
        "  vocab = vocab.union(set(question))\n",
        "  # vocab = vocab.union(set(answer))\n",
        "\n",
        "st = set((\"yes\", \"no\"))\n",
        "vocab = vocab.union(st)"
      ],
      "metadata": {
        "id": "4lYe2n92_i1Q"
      },
      "execution_count": 9,
      "outputs": []
    },
    {
      "cell_type": "code",
      "source": [
        "print(len(vocab))"
      ],
      "metadata": {
        "colab": {
          "base_uri": "https://localhost:8080/"
        },
        "id": "YC-0wV7JAHae",
        "outputId": "9e55fbe5-cc0f-40d6-c408-5735d0930579"
      },
      "execution_count": 10,
      "outputs": [
        {
          "output_type": "stream",
          "name": "stdout",
          "text": [
            "37\n"
          ]
        }
      ]
    },
    {
      "cell_type": "code",
      "source": [
        "vocab_len = len(vocab) + 1"
      ],
      "metadata": {
        "id": "_hP3IGWXAJ6B"
      },
      "execution_count": 11,
      "outputs": []
    },
    {
      "cell_type": "code",
      "source": [
        "all_story_lens = [len(data[0]) for data in all_data]"
      ],
      "metadata": {
        "id": "DSwireuwARsf"
      },
      "execution_count": 12,
      "outputs": []
    },
    {
      "cell_type": "code",
      "source": [
        "max_story_len = max(all_story_lens)"
      ],
      "metadata": {
        "id": "bTdFGMrpA0-U"
      },
      "execution_count": 13,
      "outputs": []
    },
    {
      "cell_type": "code",
      "source": [
        "max_question_len = max([len(data[1]) for data in all_data])"
      ],
      "metadata": {
        "id": "pzAPU2XUA3nm"
      },
      "execution_count": 14,
      "outputs": []
    },
    {
      "cell_type": "code",
      "source": [
        "from keras.preprocessing.sequence import pad_sequences\n",
        "from keras.preprocessing.text import Tokenizer"
      ],
      "metadata": {
        "id": "trlN0lRLBC0S"
      },
      "execution_count": 15,
      "outputs": []
    },
    {
      "cell_type": "code",
      "source": [
        "tokenizer = Tokenizer(filters=[])\n",
        "tokenizer.fit_on_texts(vocab)"
      ],
      "metadata": {
        "id": "vsraH_CPBT8J"
      },
      "execution_count": 16,
      "outputs": []
    },
    {
      "cell_type": "code",
      "source": [
        "tokenizer.word_index"
      ],
      "metadata": {
        "colab": {
          "base_uri": "https://localhost:8080/"
        },
        "id": "Um_E-_xWBb3W",
        "outputId": "07247a05-6278-47fb-9a39-ec1ff181e7ea"
      },
      "execution_count": 17,
      "outputs": [
        {
          "output_type": "execute_result",
          "data": {
            "text/plain": [
              "{'apple': 1,\n",
              " 'bathroom': 2,\n",
              " 'daniel': 3,\n",
              " 'milk': 4,\n",
              " 'took': 5,\n",
              " '?': 6,\n",
              " 'picked': 7,\n",
              " 'kitchen': 8,\n",
              " 'grabbed': 9,\n",
              " 'yes': 10,\n",
              " 'put': 11,\n",
              " 'got': 12,\n",
              " 'football': 13,\n",
              " 'down': 14,\n",
              " 'dropped': 15,\n",
              " 'discarded': 16,\n",
              " 'up': 17,\n",
              " 'garden': 18,\n",
              " 'left': 19,\n",
              " 'mary': 20,\n",
              " 'there': 21,\n",
              " 'went': 22,\n",
              " '.': 23,\n",
              " 'hallway': 24,\n",
              " 'to': 25,\n",
              " 'in': 26,\n",
              " 'john': 27,\n",
              " 'travelled': 28,\n",
              " 'sandra': 29,\n",
              " 'office': 30,\n",
              " 'the': 31,\n",
              " 'back': 32,\n",
              " 'journeyed': 33,\n",
              " 'is': 34,\n",
              " 'no': 35,\n",
              " 'bedroom': 36,\n",
              " 'moved': 37}"
            ]
          },
          "metadata": {},
          "execution_count": 17
        }
      ]
    },
    {
      "cell_type": "code",
      "source": [
        "train_story_text = []\n",
        "train_question_text = []\n",
        "train_answer = []"
      ],
      "metadata": {
        "id": "AYFf6CGrBgA7"
      },
      "execution_count": 18,
      "outputs": []
    },
    {
      "cell_type": "code",
      "source": [
        "for story, question, answer in train_data:\n",
        "  train_story_text.append(story)\n",
        "  train_question_text.append(question)\n",
        "  train_answer.append(answer)"
      ],
      "metadata": {
        "id": "I5wXX8gQB0IO"
      },
      "execution_count": 19,
      "outputs": []
    },
    {
      "cell_type": "code",
      "source": [
        "print(train_story_text[:2])"
      ],
      "metadata": {
        "colab": {
          "base_uri": "https://localhost:8080/"
        },
        "id": "XLDWsJ1TCHAO",
        "outputId": "b4632a81-5e9a-49b6-b13a-1c19a1c6cdc2"
      },
      "execution_count": 20,
      "outputs": [
        {
          "output_type": "stream",
          "name": "stdout",
          "text": [
            "[['Mary', 'moved', 'to', 'the', 'bathroom', '.', 'Sandra', 'journeyed', 'to', 'the', 'bedroom', '.'], ['Mary', 'moved', 'to', 'the', 'bathroom', '.', 'Sandra', 'journeyed', 'to', 'the', 'bedroom', '.', 'Mary', 'went', 'back', 'to', 'the', 'bedroom', '.', 'Daniel', 'went', 'back', 'to', 'the', 'hallway', '.']]\n"
          ]
        }
      ]
    },
    {
      "cell_type": "code",
      "source": [
        "train_story_seq = tokenizer.texts_to_sequences(train_story_text)"
      ],
      "metadata": {
        "id": "rgPV2GHNCJlD"
      },
      "execution_count": 21,
      "outputs": []
    },
    {
      "cell_type": "code",
      "source": [
        "print(len(train_story_seq), len(train_story_text))"
      ],
      "metadata": {
        "colab": {
          "base_uri": "https://localhost:8080/"
        },
        "id": "sYhQrdy3CeRW",
        "outputId": "6b3c613a-a69f-4909-a762-44e3357daff1"
      },
      "execution_count": 22,
      "outputs": [
        {
          "output_type": "stream",
          "name": "stdout",
          "text": [
            "10000 10000\n"
          ]
        }
      ]
    },
    {
      "cell_type": "code",
      "source": [
        "train_story_seq[0]"
      ],
      "metadata": {
        "colab": {
          "base_uri": "https://localhost:8080/"
        },
        "id": "-kzcqJL5Cgg-",
        "outputId": "de9cc36a-45ac-4f9f-d84d-8344c2a9f674"
      },
      "execution_count": 23,
      "outputs": [
        {
          "output_type": "execute_result",
          "data": {
            "text/plain": [
              "[20, 37, 25, 31, 2, 23, 29, 33, 25, 31, 36, 23]"
            ]
          },
          "metadata": {},
          "execution_count": 23
        }
      ]
    },
    {
      "cell_type": "code",
      "source": [
        "def vectorize_stories(data,word_index,max_story_length,max_question_length):\n",
        "  # Stories\n",
        "  X = []\n",
        "  # Questions\n",
        "  Xq = []\n",
        "  # Correct Ans\n",
        "  Y = []\n",
        "\n",
        "  for story,query,ans in data:\n",
        "    x = [word_index[word.lower()] for word in story]\n",
        "    X.append(x)\n",
        "\n",
        "    q = [word_index[word.lower()] for word in query]\n",
        "    Xq.append(q)\n",
        "\n",
        "    # y = [word_index[word.lower()] for word in ans]\n",
        "    y = np.zeros(len(word_index)+1)\n",
        "    y[word_index[ans]] = 1\n",
        "    Y.append(y)\n",
        "\n",
        "  return (pad_sequences(X,maxlen=max_story_length),pad_sequences(Xq,maxlen=max_question_len),np.array(Y))\n"
      ],
      "metadata": {
        "id": "EfNy5F_ICmfb"
      },
      "execution_count": 24,
      "outputs": []
    },
    {
      "cell_type": "code",
      "source": [
        "inputs_train, queries_train, ans_train = vectorize_stories(train_data,\n",
        "                                                           tokenizer.word_index,\n",
        "                                                           max_story_len,\n",
        "                                                           max_question_len)"
      ],
      "metadata": {
        "id": "RfJgytebEfS3"
      },
      "execution_count": 25,
      "outputs": []
    },
    {
      "cell_type": "code",
      "source": [
        "inputs_test, queries_test, ans_test = vectorize_stories(test_data,\n",
        "                                                        tokenizer.word_index,\n",
        "                                                        max_story_len,\n",
        "                                                        max_question_len)"
      ],
      "metadata": {
        "id": "rS6BJ-h9Er98"
      },
      "execution_count": 26,
      "outputs": []
    },
    {
      "cell_type": "code",
      "source": [
        "inputs_test"
      ],
      "metadata": {
        "colab": {
          "base_uri": "https://localhost:8080/"
        },
        "id": "iSjvVHeSIH9q",
        "outputId": "b5ac2aac-2291-42f3-ba05-cc84f8c11b3c"
      },
      "execution_count": 27,
      "outputs": [
        {
          "output_type": "execute_result",
          "data": {
            "text/plain": [
              "array([[ 0,  0,  0, ..., 31, 36, 23],\n",
              "       [ 0,  0,  0, ..., 31, 18, 23],\n",
              "       [ 0,  0,  0, ..., 31, 18, 23],\n",
              "       ...,\n",
              "       [ 0,  0,  0, ..., 31,  1, 23],\n",
              "       [ 0,  0,  0, ..., 31, 18, 23],\n",
              "       [ 0,  0,  0, ...,  1, 21, 23]], dtype=int32)"
            ]
          },
          "metadata": {},
          "execution_count": 27
        }
      ]
    },
    {
      "cell_type": "code",
      "source": [
        "sum(ans_test)"
      ],
      "metadata": {
        "colab": {
          "base_uri": "https://localhost:8080/"
        },
        "id": "ww-nEYgdIKRB",
        "outputId": "4cfcee20-291a-44f5-8a4b-ff0af55d24bc"
      },
      "execution_count": 28,
      "outputs": [
        {
          "output_type": "execute_result",
          "data": {
            "text/plain": [
              "array([  0.,   0.,   0.,   0.,   0.,   0.,   0.,   0.,   0.,   0., 497.,\n",
              "         0.,   0.,   0.,   0.,   0.,   0.,   0.,   0.,   0.,   0.,   0.,\n",
              "         0.,   0.,   0.,   0.,   0.,   0.,   0.,   0.,   0.,   0.,   0.,\n",
              "         0.,   0., 503.,   0.,   0.])"
            ]
          },
          "metadata": {},
          "execution_count": 28
        }
      ]
    },
    {
      "cell_type": "code",
      "source": [
        "from keras.models import Sequential, Model\n",
        "from keras.layers import Input, Activation, Dense, Dropout, add, dot, concatenate, LSTM, Permute\n",
        "from keras.layers import Embedding"
      ],
      "metadata": {
        "id": "wWs-lvheIbsr"
      },
      "execution_count": 29,
      "outputs": []
    },
    {
      "cell_type": "code",
      "source": [
        "input_sequence = Input((max_story_len,))\n",
        "question = Input((max_question_len,))"
      ],
      "metadata": {
        "id": "ao-DnpqrJQuE"
      },
      "execution_count": 30,
      "outputs": []
    },
    {
      "cell_type": "code",
      "source": [
        "vocab_size = len(vocab)+1"
      ],
      "metadata": {
        "id": "FzqU6feoJ373"
      },
      "execution_count": 31,
      "outputs": []
    },
    {
      "cell_type": "code",
      "source": [
        "# INPUT ENCODER M\n",
        "input_encoder_m = Sequential()\n",
        "input_encoder_m.add(Embedding(input_dim=vocab_size,\n",
        "                              output_dim=64))\n",
        "input_encoder_m.add(Dropout(0.3))"
      ],
      "metadata": {
        "id": "W77V9lheKEKV"
      },
      "execution_count": 32,
      "outputs": []
    },
    {
      "cell_type": "code",
      "source": [
        "# INPUT ENCODER C\n",
        "input_encoder_c = Sequential()\n",
        "input_encoder_c.add(Embedding(input_dim=vocab_size,\n",
        "                              output_dim=max_question_len))\n",
        "input_encoder_c.add(Dropout(0.3))"
      ],
      "metadata": {
        "id": "lCzH0BMWKoAQ"
      },
      "execution_count": 33,
      "outputs": []
    },
    {
      "cell_type": "code",
      "source": [
        "# Question Encoder\n",
        "question_encoder = Sequential()\n",
        "question_encoder.add(Embedding(input_dim=vocab_size,\n",
        "                               output_dim=64,\n",
        "                               input_length=max_question_len))\n",
        "question_encoder.add(Dropout(0.3))"
      ],
      "metadata": {
        "id": "nlTLwr-gK6s-"
      },
      "execution_count": 34,
      "outputs": []
    },
    {
      "cell_type": "code",
      "source": [
        "input_encoded_m = input_encoder_m(input_sequence)\n",
        "input_encoded_c = input_encoder_c(input_sequence)\n",
        "question_encoded = question_encoder(question)"
      ],
      "metadata": {
        "id": "9a7thO1JLVmb"
      },
      "execution_count": 35,
      "outputs": []
    },
    {
      "cell_type": "code",
      "source": [
        "matched = dot([input_encoded_m,\n",
        "             question_encoded],\n",
        "            axes=(2,2))\n",
        "\n",
        "matched = Activation('softmax')(matched)"
      ],
      "metadata": {
        "id": "dJUvaCLvL2dW"
      },
      "execution_count": 36,
      "outputs": []
    },
    {
      "cell_type": "code",
      "source": [
        "response = add([matched, input_encoded_c])\n",
        "response = Permute((2,1))(response)"
      ],
      "metadata": {
        "id": "Z_vW33roMB-x"
      },
      "execution_count": 37,
      "outputs": []
    },
    {
      "cell_type": "code",
      "source": [
        "answer = concatenate([response, question_encoded])"
      ],
      "metadata": {
        "id": "mQ13lKV2Mb3F"
      },
      "execution_count": 38,
      "outputs": []
    },
    {
      "cell_type": "code",
      "source": [
        "answer"
      ],
      "metadata": {
        "colab": {
          "base_uri": "https://localhost:8080/"
        },
        "id": "Jp_b4ip5NOZ0",
        "outputId": "4e06796c-4567-418f-ba9f-c38ed6c872a5"
      },
      "execution_count": 39,
      "outputs": [
        {
          "output_type": "execute_result",
          "data": {
            "text/plain": [
              "<KerasTensor: shape=(None, 6, 220) dtype=float32 (created by layer 'concatenate')>"
            ]
          },
          "metadata": {},
          "execution_count": 39
        }
      ]
    },
    {
      "cell_type": "code",
      "source": [
        "answer = LSTM(32)(answer)"
      ],
      "metadata": {
        "id": "3alMq750NPZe"
      },
      "execution_count": 40,
      "outputs": []
    },
    {
      "cell_type": "code",
      "source": [
        "answer = Dropout(0.5)(answer)\n",
        "answer = Dense(vocab_size, activation = \"softmax\")(answer)"
      ],
      "metadata": {
        "id": "yN82cEB4NZpP"
      },
      "execution_count": 41,
      "outputs": []
    },
    {
      "cell_type": "code",
      "source": [
        "model_bot = Model([input_sequence,\n",
        "               question],\n",
        "              answer)"
      ],
      "metadata": {
        "id": "_BBtYhFWNpl-"
      },
      "execution_count": 42,
      "outputs": []
    },
    {
      "cell_type": "code",
      "source": [
        "model_bot.compile(optimizer = 'rmsprop',\n",
        "              loss = 'categorical_crossentropy',\n",
        "              metrics = ['accuracy'])"
      ],
      "metadata": {
        "id": "gSR31T_1NvZF"
      },
      "execution_count": 43,
      "outputs": []
    },
    {
      "cell_type": "code",
      "source": [
        "model_bot.summary()"
      ],
      "metadata": {
        "colab": {
          "base_uri": "https://localhost:8080/"
        },
        "id": "50450ETVOWiF",
        "outputId": "56a4dc2a-15a9-4f2f-ea98-06a4c601e14e"
      },
      "execution_count": 44,
      "outputs": [
        {
          "output_type": "stream",
          "name": "stdout",
          "text": [
            "Model: \"model\"\n",
            "__________________________________________________________________________________________________\n",
            " Layer (type)                Output Shape                 Param #   Connected to                  \n",
            "==================================================================================================\n",
            " input_1 (InputLayer)        [(None, 156)]                0         []                            \n",
            "                                                                                                  \n",
            " input_2 (InputLayer)        [(None, 6)]                  0         []                            \n",
            "                                                                                                  \n",
            " sequential (Sequential)     (None, None, 64)             2432      ['input_1[0][0]']             \n",
            "                                                                                                  \n",
            " sequential_2 (Sequential)   (None, 6, 64)                2432      ['input_2[0][0]']             \n",
            "                                                                                                  \n",
            " dot (Dot)                   (None, 156, 6)               0         ['sequential[0][0]',          \n",
            "                                                                     'sequential_2[0][0]']        \n",
            "                                                                                                  \n",
            " activation (Activation)     (None, 156, 6)               0         ['dot[0][0]']                 \n",
            "                                                                                                  \n",
            " sequential_1 (Sequential)   (None, None, 6)              228       ['input_1[0][0]']             \n",
            "                                                                                                  \n",
            " add (Add)                   (None, 156, 6)               0         ['activation[0][0]',          \n",
            "                                                                     'sequential_1[0][0]']        \n",
            "                                                                                                  \n",
            " permute (Permute)           (None, 6, 156)               0         ['add[0][0]']                 \n",
            "                                                                                                  \n",
            " concatenate (Concatenate)   (None, 6, 220)               0         ['permute[0][0]',             \n",
            "                                                                     'sequential_2[0][0]']        \n",
            "                                                                                                  \n",
            " lstm (LSTM)                 (None, 32)                   32384     ['concatenate[0][0]']         \n",
            "                                                                                                  \n",
            " dropout_3 (Dropout)         (None, 32)                   0         ['lstm[0][0]']                \n",
            "                                                                                                  \n",
            " dense (Dense)               (None, 38)                   1254      ['dropout_3[0][0]']           \n",
            "                                                                                                  \n",
            "==================================================================================================\n",
            "Total params: 38730 (151.29 KB)\n",
            "Trainable params: 38730 (151.29 KB)\n",
            "Non-trainable params: 0 (0.00 Byte)\n",
            "__________________________________________________________________________________________________\n"
          ]
        }
      ]
    },
    {
      "cell_type": "code",
      "source": [
        "model_history = model_bot.fit([inputs_train,\n",
        "                              queries_train],\n",
        "                              ans_train,\n",
        "                              batch_size = 32,\n",
        "                              epochs = 200,\n",
        "                              validation_data = ([inputs_test, queries_test], ans_test))"
      ],
      "metadata": {
        "colab": {
          "base_uri": "https://localhost:8080/"
        },
        "id": "NF79RvtBOYe1",
        "outputId": "db503010-285a-4d46-d130-9e3c718de00d"
      },
      "execution_count": 45,
      "outputs": [
        {
          "output_type": "stream",
          "name": "stdout",
          "text": [
            "Epoch 1/200\n",
            "313/313 [==============================] - 9s 10ms/step - loss: 0.8992 - accuracy: 0.4956 - val_loss: 0.6948 - val_accuracy: 0.5030\n",
            "Epoch 2/200\n",
            "313/313 [==============================] - 2s 7ms/step - loss: 0.7055 - accuracy: 0.5008 - val_loss: 0.6954 - val_accuracy: 0.5030\n",
            "Epoch 3/200\n",
            "313/313 [==============================] - 2s 7ms/step - loss: 0.6986 - accuracy: 0.4928 - val_loss: 0.6933 - val_accuracy: 0.4970\n",
            "Epoch 4/200\n",
            "313/313 [==============================] - 3s 8ms/step - loss: 0.6960 - accuracy: 0.5001 - val_loss: 0.6932 - val_accuracy: 0.5030\n",
            "Epoch 5/200\n",
            "313/313 [==============================] - 2s 6ms/step - loss: 0.6958 - accuracy: 0.4967 - val_loss: 0.6932 - val_accuracy: 0.5030\n",
            "Epoch 6/200\n",
            "313/313 [==============================] - 2s 7ms/step - loss: 0.6957 - accuracy: 0.4954 - val_loss: 0.6933 - val_accuracy: 0.4970\n",
            "Epoch 7/200\n",
            "313/313 [==============================] - 3s 8ms/step - loss: 0.6956 - accuracy: 0.4939 - val_loss: 0.6933 - val_accuracy: 0.4970\n",
            "Epoch 8/200\n",
            "313/313 [==============================] - 2s 7ms/step - loss: 0.6959 - accuracy: 0.4958 - val_loss: 0.6932 - val_accuracy: 0.4890\n",
            "Epoch 9/200\n",
            "313/313 [==============================] - 3s 9ms/step - loss: 0.6958 - accuracy: 0.4913 - val_loss: 0.6945 - val_accuracy: 0.4970\n",
            "Epoch 10/200\n",
            "313/313 [==============================] - 2s 6ms/step - loss: 0.6951 - accuracy: 0.4972 - val_loss: 0.6949 - val_accuracy: 0.4970\n",
            "Epoch 11/200\n",
            "313/313 [==============================] - 2s 7ms/step - loss: 0.6952 - accuracy: 0.5035 - val_loss: 0.6971 - val_accuracy: 0.4970\n",
            "Epoch 12/200\n",
            "313/313 [==============================] - 2s 6ms/step - loss: 0.6944 - accuracy: 0.5091 - val_loss: 0.6944 - val_accuracy: 0.4970\n",
            "Epoch 13/200\n",
            "313/313 [==============================] - 2s 6ms/step - loss: 0.6942 - accuracy: 0.5088 - val_loss: 0.6935 - val_accuracy: 0.4970\n",
            "Epoch 14/200\n",
            "313/313 [==============================] - 2s 6ms/step - loss: 0.6953 - accuracy: 0.5034 - val_loss: 0.6933 - val_accuracy: 0.4970\n",
            "Epoch 15/200\n",
            "313/313 [==============================] - 3s 9ms/step - loss: 0.6951 - accuracy: 0.4992 - val_loss: 0.6933 - val_accuracy: 0.4970\n",
            "Epoch 16/200\n",
            "313/313 [==============================] - 2s 8ms/step - loss: 0.6953 - accuracy: 0.5039 - val_loss: 0.6932 - val_accuracy: 0.5030\n",
            "Epoch 17/200\n",
            "313/313 [==============================] - 2s 6ms/step - loss: 0.6953 - accuracy: 0.4962 - val_loss: 0.6950 - val_accuracy: 0.4970\n",
            "Epoch 18/200\n",
            "313/313 [==============================] - 2s 6ms/step - loss: 0.6945 - accuracy: 0.5019 - val_loss: 0.6934 - val_accuracy: 0.4970\n",
            "Epoch 19/200\n",
            "313/313 [==============================] - 2s 6ms/step - loss: 0.6952 - accuracy: 0.4976 - val_loss: 0.6935 - val_accuracy: 0.5030\n",
            "Epoch 20/200\n",
            "313/313 [==============================] - 2s 7ms/step - loss: 0.6948 - accuracy: 0.4986 - val_loss: 0.6953 - val_accuracy: 0.5030\n",
            "Epoch 21/200\n",
            "313/313 [==============================] - 2s 7ms/step - loss: 0.6951 - accuracy: 0.4986 - val_loss: 0.6944 - val_accuracy: 0.4970\n",
            "Epoch 22/200\n",
            "313/313 [==============================] - 2s 6ms/step - loss: 0.6953 - accuracy: 0.4935 - val_loss: 0.6940 - val_accuracy: 0.4970\n",
            "Epoch 23/200\n",
            "313/313 [==============================] - 2s 7ms/step - loss: 0.6949 - accuracy: 0.5004 - val_loss: 0.6942 - val_accuracy: 0.4970\n",
            "Epoch 24/200\n",
            "313/313 [==============================] - 2s 6ms/step - loss: 0.6949 - accuracy: 0.5036 - val_loss: 0.6932 - val_accuracy: 0.5030\n",
            "Epoch 25/200\n",
            "313/313 [==============================] - 2s 6ms/step - loss: 0.6950 - accuracy: 0.4974 - val_loss: 0.6941 - val_accuracy: 0.4970\n",
            "Epoch 26/200\n",
            "313/313 [==============================] - 3s 8ms/step - loss: 0.6955 - accuracy: 0.5005 - val_loss: 0.6932 - val_accuracy: 0.5030\n",
            "Epoch 27/200\n",
            "313/313 [==============================] - 2s 6ms/step - loss: 0.6945 - accuracy: 0.5044 - val_loss: 0.6931 - val_accuracy: 0.5030\n",
            "Epoch 28/200\n",
            "313/313 [==============================] - 2s 6ms/step - loss: 0.6945 - accuracy: 0.5000 - val_loss: 0.6955 - val_accuracy: 0.4970\n",
            "Epoch 29/200\n",
            "313/313 [==============================] - 2s 6ms/step - loss: 0.6947 - accuracy: 0.5045 - val_loss: 0.6938 - val_accuracy: 0.5030\n",
            "Epoch 30/200\n",
            "313/313 [==============================] - 2s 6ms/step - loss: 0.6952 - accuracy: 0.4962 - val_loss: 0.6945 - val_accuracy: 0.5030\n",
            "Epoch 31/200\n",
            "313/313 [==============================] - 2s 7ms/step - loss: 0.6948 - accuracy: 0.5002 - val_loss: 0.6933 - val_accuracy: 0.5030\n",
            "Epoch 32/200\n",
            "313/313 [==============================] - 3s 10ms/step - loss: 0.6946 - accuracy: 0.5035 - val_loss: 0.6933 - val_accuracy: 0.5030\n",
            "Epoch 33/200\n",
            "313/313 [==============================] - 2s 6ms/step - loss: 0.6957 - accuracy: 0.4905 - val_loss: 0.6941 - val_accuracy: 0.4970\n",
            "Epoch 34/200\n",
            "313/313 [==============================] - 2s 6ms/step - loss: 0.6951 - accuracy: 0.4986 - val_loss: 0.6938 - val_accuracy: 0.4970\n",
            "Epoch 35/200\n",
            "313/313 [==============================] - 2s 6ms/step - loss: 0.6943 - accuracy: 0.5059 - val_loss: 0.6932 - val_accuracy: 0.4970\n",
            "Epoch 36/200\n",
            "313/313 [==============================] - 2s 6ms/step - loss: 0.6954 - accuracy: 0.4939 - val_loss: 0.6938 - val_accuracy: 0.5030\n",
            "Epoch 37/200\n",
            "313/313 [==============================] - 2s 7ms/step - loss: 0.6946 - accuracy: 0.5038 - val_loss: 0.6974 - val_accuracy: 0.4970\n",
            "Epoch 38/200\n",
            "313/313 [==============================] - 2s 8ms/step - loss: 0.6950 - accuracy: 0.5000 - val_loss: 0.6974 - val_accuracy: 0.5030\n",
            "Epoch 39/200\n",
            "313/313 [==============================] - 2s 6ms/step - loss: 0.6952 - accuracy: 0.4892 - val_loss: 0.6935 - val_accuracy: 0.4970\n",
            "Epoch 40/200\n",
            "313/313 [==============================] - 2s 6ms/step - loss: 0.6945 - accuracy: 0.5028 - val_loss: 0.6935 - val_accuracy: 0.5030\n",
            "Epoch 41/200\n",
            "313/313 [==============================] - 2s 6ms/step - loss: 0.6947 - accuracy: 0.4955 - val_loss: 0.6932 - val_accuracy: 0.5030\n",
            "Epoch 42/200\n",
            "313/313 [==============================] - 2s 6ms/step - loss: 0.6945 - accuracy: 0.5048 - val_loss: 0.6932 - val_accuracy: 0.5030\n",
            "Epoch 43/200\n",
            "313/313 [==============================] - 2s 8ms/step - loss: 0.6949 - accuracy: 0.4958 - val_loss: 0.6936 - val_accuracy: 0.5030\n",
            "Epoch 44/200\n",
            "313/313 [==============================] - 2s 8ms/step - loss: 0.6952 - accuracy: 0.4906 - val_loss: 0.6931 - val_accuracy: 0.5030\n",
            "Epoch 45/200\n",
            "313/313 [==============================] - 2s 6ms/step - loss: 0.6945 - accuracy: 0.5069 - val_loss: 0.6951 - val_accuracy: 0.5030\n",
            "Epoch 46/200\n",
            "313/313 [==============================] - 2s 6ms/step - loss: 0.6952 - accuracy: 0.4958 - val_loss: 0.6934 - val_accuracy: 0.5030\n",
            "Epoch 47/200\n",
            "313/313 [==============================] - 2s 6ms/step - loss: 0.6949 - accuracy: 0.4992 - val_loss: 0.6945 - val_accuracy: 0.4970\n",
            "Epoch 48/200\n",
            "313/313 [==============================] - 2s 6ms/step - loss: 0.6946 - accuracy: 0.4995 - val_loss: 0.6941 - val_accuracy: 0.4970\n",
            "Epoch 49/200\n",
            "313/313 [==============================] - 3s 8ms/step - loss: 0.6944 - accuracy: 0.5043 - val_loss: 0.6932 - val_accuracy: 0.4960\n",
            "Epoch 50/200\n",
            "313/313 [==============================] - 2s 7ms/step - loss: 0.6948 - accuracy: 0.5019 - val_loss: 0.6936 - val_accuracy: 0.4970\n",
            "Epoch 51/200\n",
            "313/313 [==============================] - 2s 6ms/step - loss: 0.6948 - accuracy: 0.5040 - val_loss: 0.6950 - val_accuracy: 0.4970\n",
            "Epoch 52/200\n",
            "313/313 [==============================] - 2s 6ms/step - loss: 0.6952 - accuracy: 0.4940 - val_loss: 0.6935 - val_accuracy: 0.4970\n",
            "Epoch 53/200\n",
            "313/313 [==============================] - 2s 6ms/step - loss: 0.6947 - accuracy: 0.4960 - val_loss: 0.6935 - val_accuracy: 0.5030\n",
            "Epoch 54/200\n",
            "313/313 [==============================] - 2s 6ms/step - loss: 0.6943 - accuracy: 0.5016 - val_loss: 0.6945 - val_accuracy: 0.4970\n",
            "Epoch 55/200\n",
            "313/313 [==============================] - 3s 8ms/step - loss: 0.6948 - accuracy: 0.4983 - val_loss: 0.6964 - val_accuracy: 0.4970\n",
            "Epoch 56/200\n",
            "313/313 [==============================] - 2s 6ms/step - loss: 0.6949 - accuracy: 0.4926 - val_loss: 0.6932 - val_accuracy: 0.5030\n",
            "Epoch 57/200\n",
            "313/313 [==============================] - 2s 6ms/step - loss: 0.6946 - accuracy: 0.5011 - val_loss: 0.6933 - val_accuracy: 0.5030\n",
            "Epoch 58/200\n",
            "313/313 [==============================] - 2s 7ms/step - loss: 0.6951 - accuracy: 0.4981 - val_loss: 0.6951 - val_accuracy: 0.4970\n",
            "Epoch 59/200\n",
            "313/313 [==============================] - 2s 7ms/step - loss: 0.6949 - accuracy: 0.4931 - val_loss: 0.6941 - val_accuracy: 0.4970\n",
            "Epoch 60/200\n",
            "313/313 [==============================] - 2s 7ms/step - loss: 0.6950 - accuracy: 0.4958 - val_loss: 0.6935 - val_accuracy: 0.4970\n",
            "Epoch 61/200\n",
            "313/313 [==============================] - 3s 8ms/step - loss: 0.6947 - accuracy: 0.4985 - val_loss: 0.6940 - val_accuracy: 0.4970\n",
            "Epoch 62/200\n",
            "313/313 [==============================] - 2s 6ms/step - loss: 0.6944 - accuracy: 0.5036 - val_loss: 0.6939 - val_accuracy: 0.5030\n",
            "Epoch 63/200\n",
            "313/313 [==============================] - 2s 6ms/step - loss: 0.6952 - accuracy: 0.4955 - val_loss: 0.6943 - val_accuracy: 0.5030\n",
            "Epoch 64/200\n",
            "313/313 [==============================] - 2s 6ms/step - loss: 0.6947 - accuracy: 0.4981 - val_loss: 0.6941 - val_accuracy: 0.4980\n",
            "Epoch 65/200\n",
            "313/313 [==============================] - 2s 6ms/step - loss: 0.6945 - accuracy: 0.5012 - val_loss: 0.6939 - val_accuracy: 0.4940\n",
            "Epoch 66/200\n",
            "313/313 [==============================] - 2s 7ms/step - loss: 0.6944 - accuracy: 0.5043 - val_loss: 0.6946 - val_accuracy: 0.4980\n",
            "Epoch 67/200\n",
            "313/313 [==============================] - 2s 8ms/step - loss: 0.6940 - accuracy: 0.5117 - val_loss: 0.6950 - val_accuracy: 0.5050\n",
            "Epoch 68/200\n",
            "313/313 [==============================] - 2s 6ms/step - loss: 0.6934 - accuracy: 0.5157 - val_loss: 0.6963 - val_accuracy: 0.4910\n",
            "Epoch 69/200\n",
            "313/313 [==============================] - 2s 7ms/step - loss: 0.6941 - accuracy: 0.5066 - val_loss: 0.6955 - val_accuracy: 0.5000\n",
            "Epoch 70/200\n",
            "313/313 [==============================] - 2s 6ms/step - loss: 0.6942 - accuracy: 0.5049 - val_loss: 0.6944 - val_accuracy: 0.4700\n",
            "Epoch 71/200\n",
            "313/313 [==============================] - 2s 6ms/step - loss: 0.6926 - accuracy: 0.5168 - val_loss: 0.6968 - val_accuracy: 0.4990\n",
            "Epoch 72/200\n",
            "313/313 [==============================] - 3s 8ms/step - loss: 0.6923 - accuracy: 0.5239 - val_loss: 0.6972 - val_accuracy: 0.4910\n",
            "Epoch 73/200\n",
            "313/313 [==============================] - 2s 7ms/step - loss: 0.6924 - accuracy: 0.5168 - val_loss: 0.6965 - val_accuracy: 0.4910\n",
            "Epoch 74/200\n",
            "313/313 [==============================] - 2s 6ms/step - loss: 0.6911 - accuracy: 0.5256 - val_loss: 0.6971 - val_accuracy: 0.4650\n",
            "Epoch 75/200\n",
            "313/313 [==============================] - 2s 7ms/step - loss: 0.6890 - accuracy: 0.5279 - val_loss: 0.6947 - val_accuracy: 0.4780\n",
            "Epoch 76/200\n",
            "313/313 [==============================] - 2s 6ms/step - loss: 0.6849 - accuracy: 0.5368 - val_loss: 0.6890 - val_accuracy: 0.5180\n",
            "Epoch 77/200\n",
            "313/313 [==============================] - 2s 6ms/step - loss: 0.6730 - accuracy: 0.5657 - val_loss: 0.6791 - val_accuracy: 0.5710\n",
            "Epoch 78/200\n",
            "313/313 [==============================] - 3s 9ms/step - loss: 0.6618 - accuracy: 0.5974 - val_loss: 0.6558 - val_accuracy: 0.6220\n",
            "Epoch 79/200\n",
            "313/313 [==============================] - 3s 11ms/step - loss: 0.6478 - accuracy: 0.6218 - val_loss: 0.6402 - val_accuracy: 0.6240\n",
            "Epoch 80/200\n",
            "313/313 [==============================] - 2s 6ms/step - loss: 0.6395 - accuracy: 0.6410 - val_loss: 0.6250 - val_accuracy: 0.6520\n",
            "Epoch 81/200\n",
            "313/313 [==============================] - 2s 7ms/step - loss: 0.6312 - accuracy: 0.6566 - val_loss: 0.6131 - val_accuracy: 0.6670\n",
            "Epoch 82/200\n",
            "313/313 [==============================] - 2s 7ms/step - loss: 0.6222 - accuracy: 0.6573 - val_loss: 0.6112 - val_accuracy: 0.6600\n",
            "Epoch 83/200\n",
            "313/313 [==============================] - 3s 9ms/step - loss: 0.6094 - accuracy: 0.6740 - val_loss: 0.5943 - val_accuracy: 0.6780\n",
            "Epoch 84/200\n",
            "313/313 [==============================] - 2s 6ms/step - loss: 0.6061 - accuracy: 0.6770 - val_loss: 0.5926 - val_accuracy: 0.6810\n",
            "Epoch 85/200\n",
            "313/313 [==============================] - 2s 6ms/step - loss: 0.6024 - accuracy: 0.6816 - val_loss: 0.5850 - val_accuracy: 0.6930\n",
            "Epoch 86/200\n",
            "313/313 [==============================] - 2s 7ms/step - loss: 0.5852 - accuracy: 0.6949 - val_loss: 0.5773 - val_accuracy: 0.6970\n",
            "Epoch 87/200\n",
            "313/313 [==============================] - 2s 6ms/step - loss: 0.5801 - accuracy: 0.6974 - val_loss: 0.5719 - val_accuracy: 0.6950\n",
            "Epoch 88/200\n",
            "313/313 [==============================] - 2s 7ms/step - loss: 0.5681 - accuracy: 0.7097 - val_loss: 0.5570 - val_accuracy: 0.7170\n",
            "Epoch 89/200\n",
            "313/313 [==============================] - 3s 8ms/step - loss: 0.5600 - accuracy: 0.7222 - val_loss: 0.5588 - val_accuracy: 0.7070\n",
            "Epoch 90/200\n",
            "313/313 [==============================] - 2s 7ms/step - loss: 0.5474 - accuracy: 0.7289 - val_loss: 0.5311 - val_accuracy: 0.7330\n",
            "Epoch 91/200\n",
            "313/313 [==============================] - 2s 6ms/step - loss: 0.5358 - accuracy: 0.7408 - val_loss: 0.5061 - val_accuracy: 0.7530\n",
            "Epoch 92/200\n",
            "313/313 [==============================] - 2s 7ms/step - loss: 0.4996 - accuracy: 0.7630 - val_loss: 0.4880 - val_accuracy: 0.7710\n",
            "Epoch 93/200\n",
            "313/313 [==============================] - 2s 6ms/step - loss: 0.4829 - accuracy: 0.7794 - val_loss: 0.4508 - val_accuracy: 0.7940\n",
            "Epoch 94/200\n",
            "313/313 [==============================] - 3s 8ms/step - loss: 0.4581 - accuracy: 0.7946 - val_loss: 0.4583 - val_accuracy: 0.7950\n",
            "Epoch 95/200\n",
            "313/313 [==============================] - 2s 7ms/step - loss: 0.4423 - accuracy: 0.8067 - val_loss: 0.4198 - val_accuracy: 0.8020\n",
            "Epoch 96/200\n",
            "313/313 [==============================] - 2s 6ms/step - loss: 0.4261 - accuracy: 0.8148 - val_loss: 0.4197 - val_accuracy: 0.7940\n",
            "Epoch 97/200\n",
            "313/313 [==============================] - 2s 6ms/step - loss: 0.4143 - accuracy: 0.8141 - val_loss: 0.4021 - val_accuracy: 0.8110\n",
            "Epoch 98/200\n",
            "313/313 [==============================] - 2s 7ms/step - loss: 0.4162 - accuracy: 0.8191 - val_loss: 0.4576 - val_accuracy: 0.7930\n",
            "Epoch 99/200\n",
            "313/313 [==============================] - 2s 6ms/step - loss: 0.3945 - accuracy: 0.8318 - val_loss: 0.3884 - val_accuracy: 0.8110\n",
            "Epoch 100/200\n",
            "313/313 [==============================] - 3s 9ms/step - loss: 0.3913 - accuracy: 0.8304 - val_loss: 0.4323 - val_accuracy: 0.8060\n",
            "Epoch 101/200\n",
            "313/313 [==============================] - 2s 6ms/step - loss: 0.3745 - accuracy: 0.8361 - val_loss: 0.3873 - val_accuracy: 0.8140\n",
            "Epoch 102/200\n",
            "313/313 [==============================] - 2s 6ms/step - loss: 0.3681 - accuracy: 0.8467 - val_loss: 0.4068 - val_accuracy: 0.8110\n",
            "Epoch 103/200\n",
            "313/313 [==============================] - 2s 6ms/step - loss: 0.3566 - accuracy: 0.8450 - val_loss: 0.3758 - val_accuracy: 0.8210\n",
            "Epoch 104/200\n",
            "313/313 [==============================] - 2s 6ms/step - loss: 0.3542 - accuracy: 0.8467 - val_loss: 0.4156 - val_accuracy: 0.8130\n",
            "Epoch 105/200\n",
            "313/313 [==============================] - 2s 8ms/step - loss: 0.3542 - accuracy: 0.8520 - val_loss: 0.3783 - val_accuracy: 0.8130\n",
            "Epoch 106/200\n",
            "313/313 [==============================] - 3s 11ms/step - loss: 0.3427 - accuracy: 0.8516 - val_loss: 0.3736 - val_accuracy: 0.8280\n",
            "Epoch 107/200\n",
            "313/313 [==============================] - 2s 6ms/step - loss: 0.3435 - accuracy: 0.8520 - val_loss: 0.4000 - val_accuracy: 0.8190\n",
            "Epoch 108/200\n",
            "313/313 [==============================] - 2s 7ms/step - loss: 0.3373 - accuracy: 0.8582 - val_loss: 0.3741 - val_accuracy: 0.8200\n",
            "Epoch 109/200\n",
            "313/313 [==============================] - 2s 6ms/step - loss: 0.3361 - accuracy: 0.8544 - val_loss: 0.4108 - val_accuracy: 0.8180\n",
            "Epoch 110/200\n",
            "313/313 [==============================] - 2s 6ms/step - loss: 0.3367 - accuracy: 0.8565 - val_loss: 0.3772 - val_accuracy: 0.8230\n",
            "Epoch 111/200\n",
            "313/313 [==============================] - 2s 7ms/step - loss: 0.3339 - accuracy: 0.8563 - val_loss: 0.3804 - val_accuracy: 0.8260\n",
            "Epoch 112/200\n",
            "313/313 [==============================] - 2s 8ms/step - loss: 0.3310 - accuracy: 0.8570 - val_loss: 0.3717 - val_accuracy: 0.8370\n",
            "Epoch 113/200\n",
            "313/313 [==============================] - 2s 6ms/step - loss: 0.3299 - accuracy: 0.8560 - val_loss: 0.3879 - val_accuracy: 0.8280\n",
            "Epoch 114/200\n",
            "313/313 [==============================] - 2s 6ms/step - loss: 0.3285 - accuracy: 0.8563 - val_loss: 0.3830 - val_accuracy: 0.8310\n",
            "Epoch 115/200\n",
            "313/313 [==============================] - 2s 6ms/step - loss: 0.3253 - accuracy: 0.8616 - val_loss: 0.3749 - val_accuracy: 0.8260\n",
            "Epoch 116/200\n",
            "313/313 [==============================] - 2s 6ms/step - loss: 0.3206 - accuracy: 0.8588 - val_loss: 0.3677 - val_accuracy: 0.8270\n",
            "Epoch 117/200\n",
            "313/313 [==============================] - 2s 8ms/step - loss: 0.3165 - accuracy: 0.8626 - val_loss: 0.3851 - val_accuracy: 0.8240\n",
            "Epoch 118/200\n",
            "313/313 [==============================] - 2s 8ms/step - loss: 0.3187 - accuracy: 0.8622 - val_loss: 0.3727 - val_accuracy: 0.8350\n",
            "Epoch 119/200\n",
            "313/313 [==============================] - 2s 7ms/step - loss: 0.3170 - accuracy: 0.8640 - val_loss: 0.3871 - val_accuracy: 0.8290\n",
            "Epoch 120/200\n",
            "313/313 [==============================] - 2s 6ms/step - loss: 0.3154 - accuracy: 0.8642 - val_loss: 0.4093 - val_accuracy: 0.8210\n",
            "Epoch 121/200\n",
            "313/313 [==============================] - 2s 6ms/step - loss: 0.3109 - accuracy: 0.8612 - val_loss: 0.3850 - val_accuracy: 0.8250\n",
            "Epoch 122/200\n",
            "313/313 [==============================] - 2s 7ms/step - loss: 0.3151 - accuracy: 0.8648 - val_loss: 0.3956 - val_accuracy: 0.8270\n",
            "Epoch 123/200\n",
            "313/313 [==============================] - 3s 9ms/step - loss: 0.3113 - accuracy: 0.8643 - val_loss: 0.3746 - val_accuracy: 0.8280\n",
            "Epoch 124/200\n",
            "313/313 [==============================] - 2s 6ms/step - loss: 0.3115 - accuracy: 0.8663 - val_loss: 0.4042 - val_accuracy: 0.8240\n",
            "Epoch 125/200\n",
            "313/313 [==============================] - 2s 6ms/step - loss: 0.3064 - accuracy: 0.8693 - val_loss: 0.3893 - val_accuracy: 0.8250\n",
            "Epoch 126/200\n",
            "313/313 [==============================] - 2s 7ms/step - loss: 0.3061 - accuracy: 0.8679 - val_loss: 0.4084 - val_accuracy: 0.8260\n",
            "Epoch 127/200\n",
            "313/313 [==============================] - 2s 6ms/step - loss: 0.3052 - accuracy: 0.8676 - val_loss: 0.3963 - val_accuracy: 0.8230\n",
            "Epoch 128/200\n",
            "313/313 [==============================] - 2s 7ms/step - loss: 0.3011 - accuracy: 0.8712 - val_loss: 0.3869 - val_accuracy: 0.8210\n",
            "Epoch 129/200\n",
            "313/313 [==============================] - 2s 8ms/step - loss: 0.3024 - accuracy: 0.8709 - val_loss: 0.3982 - val_accuracy: 0.8290\n",
            "Epoch 130/200\n",
            "313/313 [==============================] - 2s 7ms/step - loss: 0.3010 - accuracy: 0.8711 - val_loss: 0.3800 - val_accuracy: 0.8180\n",
            "Epoch 131/200\n",
            "313/313 [==============================] - 2s 7ms/step - loss: 0.2992 - accuracy: 0.8697 - val_loss: 0.4073 - val_accuracy: 0.8200\n",
            "Epoch 132/200\n",
            "313/313 [==============================] - 2s 6ms/step - loss: 0.2976 - accuracy: 0.8721 - val_loss: 0.3972 - val_accuracy: 0.8270\n",
            "Epoch 133/200\n",
            "313/313 [==============================] - 2s 6ms/step - loss: 0.2961 - accuracy: 0.8700 - val_loss: 0.4140 - val_accuracy: 0.8320\n",
            "Epoch 134/200\n",
            "313/313 [==============================] - 3s 8ms/step - loss: 0.2942 - accuracy: 0.8742 - val_loss: 0.3996 - val_accuracy: 0.8190\n",
            "Epoch 135/200\n",
            "313/313 [==============================] - 2s 7ms/step - loss: 0.2946 - accuracy: 0.8746 - val_loss: 0.4037 - val_accuracy: 0.8220\n",
            "Epoch 136/200\n",
            "313/313 [==============================] - 2s 6ms/step - loss: 0.2932 - accuracy: 0.8760 - val_loss: 0.4021 - val_accuracy: 0.8220\n",
            "Epoch 137/200\n",
            "313/313 [==============================] - 2s 6ms/step - loss: 0.2925 - accuracy: 0.8773 - val_loss: 0.4042 - val_accuracy: 0.8220\n",
            "Epoch 138/200\n",
            "313/313 [==============================] - 2s 6ms/step - loss: 0.2902 - accuracy: 0.8767 - val_loss: 0.3912 - val_accuracy: 0.8140\n",
            "Epoch 139/200\n",
            "313/313 [==============================] - 2s 6ms/step - loss: 0.2906 - accuracy: 0.8747 - val_loss: 0.4136 - val_accuracy: 0.8200\n",
            "Epoch 140/200\n",
            "313/313 [==============================] - 3s 9ms/step - loss: 0.2884 - accuracy: 0.8766 - val_loss: 0.4084 - val_accuracy: 0.8290\n",
            "Epoch 141/200\n",
            "313/313 [==============================] - 2s 6ms/step - loss: 0.2854 - accuracy: 0.8792 - val_loss: 0.4568 - val_accuracy: 0.8250\n",
            "Epoch 142/200\n",
            "313/313 [==============================] - 2s 7ms/step - loss: 0.2873 - accuracy: 0.8789 - val_loss: 0.4052 - val_accuracy: 0.8210\n",
            "Epoch 143/200\n",
            "313/313 [==============================] - 2s 7ms/step - loss: 0.2795 - accuracy: 0.8799 - val_loss: 0.4053 - val_accuracy: 0.8280\n",
            "Epoch 144/200\n",
            "313/313 [==============================] - 2s 7ms/step - loss: 0.2807 - accuracy: 0.8809 - val_loss: 0.4392 - val_accuracy: 0.8250\n",
            "Epoch 145/200\n",
            "313/313 [==============================] - 2s 7ms/step - loss: 0.2801 - accuracy: 0.8818 - val_loss: 0.4480 - val_accuracy: 0.8220\n",
            "Epoch 146/200\n",
            "313/313 [==============================] - 3s 8ms/step - loss: 0.2792 - accuracy: 0.8828 - val_loss: 0.4152 - val_accuracy: 0.8200\n",
            "Epoch 147/200\n",
            "313/313 [==============================] - 2s 7ms/step - loss: 0.2756 - accuracy: 0.8825 - val_loss: 0.4200 - val_accuracy: 0.8140\n",
            "Epoch 148/200\n",
            "313/313 [==============================] - 2s 7ms/step - loss: 0.2726 - accuracy: 0.8853 - val_loss: 0.4137 - val_accuracy: 0.8150\n",
            "Epoch 149/200\n",
            "313/313 [==============================] - 2s 6ms/step - loss: 0.2741 - accuracy: 0.8821 - val_loss: 0.4364 - val_accuracy: 0.8260\n",
            "Epoch 150/200\n",
            "313/313 [==============================] - 2s 7ms/step - loss: 0.2698 - accuracy: 0.8843 - val_loss: 0.4223 - val_accuracy: 0.8170\n",
            "Epoch 151/200\n",
            "313/313 [==============================] - 3s 9ms/step - loss: 0.2703 - accuracy: 0.8862 - val_loss: 0.4469 - val_accuracy: 0.8210\n",
            "Epoch 152/200\n",
            "313/313 [==============================] - 2s 7ms/step - loss: 0.2661 - accuracy: 0.8852 - val_loss: 0.4192 - val_accuracy: 0.8250\n",
            "Epoch 153/200\n",
            "313/313 [==============================] - 2s 7ms/step - loss: 0.2665 - accuracy: 0.8856 - val_loss: 0.4682 - val_accuracy: 0.8270\n",
            "Epoch 154/200\n",
            "313/313 [==============================] - 2s 6ms/step - loss: 0.2687 - accuracy: 0.8860 - val_loss: 0.4224 - val_accuracy: 0.8170\n",
            "Epoch 155/200\n",
            "313/313 [==============================] - 2s 6ms/step - loss: 0.2652 - accuracy: 0.8885 - val_loss: 0.4832 - val_accuracy: 0.8160\n",
            "Epoch 156/200\n",
            "313/313 [==============================] - 2s 7ms/step - loss: 0.2656 - accuracy: 0.8891 - val_loss: 0.4483 - val_accuracy: 0.8260\n",
            "Epoch 157/200\n",
            "313/313 [==============================] - 3s 9ms/step - loss: 0.2635 - accuracy: 0.8858 - val_loss: 0.4516 - val_accuracy: 0.8190\n",
            "Epoch 158/200\n",
            "313/313 [==============================] - 2s 6ms/step - loss: 0.2580 - accuracy: 0.8897 - val_loss: 0.4437 - val_accuracy: 0.8270\n",
            "Epoch 159/200\n",
            "313/313 [==============================] - 2s 6ms/step - loss: 0.2624 - accuracy: 0.8890 - val_loss: 0.4535 - val_accuracy: 0.8230\n",
            "Epoch 160/200\n",
            "313/313 [==============================] - 2s 6ms/step - loss: 0.2635 - accuracy: 0.8910 - val_loss: 0.4335 - val_accuracy: 0.8250\n",
            "Epoch 161/200\n",
            "313/313 [==============================] - 2s 6ms/step - loss: 0.2574 - accuracy: 0.8899 - val_loss: 0.4487 - val_accuracy: 0.8250\n",
            "Epoch 162/200\n",
            "313/313 [==============================] - 2s 7ms/step - loss: 0.2537 - accuracy: 0.8949 - val_loss: 0.4613 - val_accuracy: 0.8190\n",
            "Epoch 163/200\n",
            "313/313 [==============================] - 2s 7ms/step - loss: 0.2566 - accuracy: 0.8919 - val_loss: 0.4727 - val_accuracy: 0.8280\n",
            "Epoch 164/200\n",
            "313/313 [==============================] - 2s 6ms/step - loss: 0.2580 - accuracy: 0.8934 - val_loss: 0.4545 - val_accuracy: 0.8120\n",
            "Epoch 165/200\n",
            "313/313 [==============================] - 2s 6ms/step - loss: 0.2536 - accuracy: 0.8915 - val_loss: 0.4543 - val_accuracy: 0.8160\n",
            "Epoch 166/200\n",
            "313/313 [==============================] - 2s 7ms/step - loss: 0.2486 - accuracy: 0.8953 - val_loss: 0.4895 - val_accuracy: 0.8050\n",
            "Epoch 167/200\n",
            "313/313 [==============================] - 2s 6ms/step - loss: 0.2490 - accuracy: 0.8973 - val_loss: 0.4911 - val_accuracy: 0.8150\n",
            "Epoch 168/200\n",
            "313/313 [==============================] - 3s 8ms/step - loss: 0.2419 - accuracy: 0.8938 - val_loss: 0.4996 - val_accuracy: 0.8250\n",
            "Epoch 169/200\n",
            "313/313 [==============================] - 2s 7ms/step - loss: 0.2477 - accuracy: 0.8950 - val_loss: 0.4613 - val_accuracy: 0.8150\n",
            "Epoch 170/200\n",
            "313/313 [==============================] - 2s 7ms/step - loss: 0.2440 - accuracy: 0.8970 - val_loss: 0.4971 - val_accuracy: 0.8240\n",
            "Epoch 171/200\n",
            "313/313 [==============================] - 2s 7ms/step - loss: 0.2426 - accuracy: 0.8977 - val_loss: 0.5088 - val_accuracy: 0.8260\n",
            "Epoch 172/200\n",
            "313/313 [==============================] - 2s 6ms/step - loss: 0.2406 - accuracy: 0.8994 - val_loss: 0.5697 - val_accuracy: 0.8150\n",
            "Epoch 173/200\n",
            "313/313 [==============================] - 2s 6ms/step - loss: 0.2433 - accuracy: 0.8988 - val_loss: 0.5040 - val_accuracy: 0.8130\n",
            "Epoch 174/200\n",
            "313/313 [==============================] - 3s 9ms/step - loss: 0.2388 - accuracy: 0.9010 - val_loss: 0.5061 - val_accuracy: 0.8190\n",
            "Epoch 175/200\n",
            "313/313 [==============================] - 2s 6ms/step - loss: 0.2378 - accuracy: 0.9017 - val_loss: 0.4948 - val_accuracy: 0.8170\n",
            "Epoch 176/200\n",
            "313/313 [==============================] - 2s 6ms/step - loss: 0.2359 - accuracy: 0.9007 - val_loss: 0.5249 - val_accuracy: 0.8210\n",
            "Epoch 177/200\n",
            "313/313 [==============================] - 2s 6ms/step - loss: 0.2423 - accuracy: 0.8998 - val_loss: 0.5102 - val_accuracy: 0.8120\n",
            "Epoch 178/200\n",
            "313/313 [==============================] - 2s 6ms/step - loss: 0.2432 - accuracy: 0.8976 - val_loss: 0.4812 - val_accuracy: 0.8110\n",
            "Epoch 179/200\n",
            "313/313 [==============================] - 2s 7ms/step - loss: 0.2301 - accuracy: 0.9039 - val_loss: 0.5333 - val_accuracy: 0.8060\n",
            "Epoch 180/200\n",
            "313/313 [==============================] - 3s 8ms/step - loss: 0.2383 - accuracy: 0.9017 - val_loss: 0.5014 - val_accuracy: 0.8190\n",
            "Epoch 181/200\n",
            "313/313 [==============================] - 2s 7ms/step - loss: 0.2320 - accuracy: 0.9045 - val_loss: 0.5318 - val_accuracy: 0.8020\n",
            "Epoch 182/200\n",
            "313/313 [==============================] - 2s 7ms/step - loss: 0.2349 - accuracy: 0.9037 - val_loss: 0.5290 - val_accuracy: 0.8120\n",
            "Epoch 183/200\n",
            "313/313 [==============================] - 2s 7ms/step - loss: 0.2311 - accuracy: 0.9038 - val_loss: 0.5477 - val_accuracy: 0.8140\n",
            "Epoch 184/200\n",
            "313/313 [==============================] - 2s 7ms/step - loss: 0.2346 - accuracy: 0.8997 - val_loss: 0.5305 - val_accuracy: 0.8130\n",
            "Epoch 185/200\n",
            "313/313 [==============================] - 3s 8ms/step - loss: 0.2283 - accuracy: 0.9066 - val_loss: 0.5436 - val_accuracy: 0.8030\n",
            "Epoch 186/200\n",
            "313/313 [==============================] - 2s 7ms/step - loss: 0.2245 - accuracy: 0.9061 - val_loss: 0.5443 - val_accuracy: 0.8120\n",
            "Epoch 187/200\n",
            "313/313 [==============================] - 2s 6ms/step - loss: 0.2210 - accuracy: 0.9069 - val_loss: 0.5784 - val_accuracy: 0.8230\n",
            "Epoch 188/200\n",
            "313/313 [==============================] - 2s 6ms/step - loss: 0.2252 - accuracy: 0.9035 - val_loss: 0.5038 - val_accuracy: 0.8070\n",
            "Epoch 189/200\n",
            "313/313 [==============================] - 2s 7ms/step - loss: 0.2184 - accuracy: 0.9116 - val_loss: 0.5295 - val_accuracy: 0.8150\n",
            "Epoch 190/200\n",
            "313/313 [==============================] - 2s 7ms/step - loss: 0.2244 - accuracy: 0.9077 - val_loss: 0.5433 - val_accuracy: 0.8000\n",
            "Epoch 191/200\n",
            "313/313 [==============================] - 3s 9ms/step - loss: 0.2196 - accuracy: 0.9098 - val_loss: 0.5536 - val_accuracy: 0.8170\n",
            "Epoch 192/200\n",
            "313/313 [==============================] - 2s 7ms/step - loss: 0.2171 - accuracy: 0.9112 - val_loss: 0.5497 - val_accuracy: 0.8140\n",
            "Epoch 193/200\n",
            "313/313 [==============================] - 2s 7ms/step - loss: 0.2178 - accuracy: 0.9104 - val_loss: 0.5428 - val_accuracy: 0.8160\n",
            "Epoch 194/200\n",
            "313/313 [==============================] - 2s 6ms/step - loss: 0.2247 - accuracy: 0.9046 - val_loss: 0.5116 - val_accuracy: 0.8080\n",
            "Epoch 195/200\n",
            "313/313 [==============================] - 2s 6ms/step - loss: 0.2158 - accuracy: 0.9135 - val_loss: 0.5827 - val_accuracy: 0.8030\n",
            "Epoch 196/200\n",
            "313/313 [==============================] - 2s 7ms/step - loss: 0.2170 - accuracy: 0.9106 - val_loss: 0.5404 - val_accuracy: 0.8070\n",
            "Epoch 197/200\n",
            "313/313 [==============================] - 2s 8ms/step - loss: 0.2155 - accuracy: 0.9125 - val_loss: 0.6050 - val_accuracy: 0.8080\n",
            "Epoch 198/200\n",
            "313/313 [==============================] - 2s 7ms/step - loss: 0.2158 - accuracy: 0.9120 - val_loss: 0.5575 - val_accuracy: 0.8120\n",
            "Epoch 199/200\n",
            "313/313 [==============================] - 2s 7ms/step - loss: 0.2141 - accuracy: 0.9127 - val_loss: 0.5846 - val_accuracy: 0.8140\n",
            "Epoch 200/200\n",
            "313/313 [==============================] - 2s 7ms/step - loss: 0.2188 - accuracy: 0.9114 - val_loss: 0.5637 - val_accuracy: 0.8070\n"
          ]
        }
      ]
    },
    {
      "cell_type": "code",
      "source": [
        "import matplotlib.pyplot as plt\n",
        "\n",
        "def plot_loss_curves(history):\n",
        "  \"\"\"\n",
        "  Returns separate loss curves for training and validation metrics.\n",
        "\n",
        "  Args:\n",
        "    history: TensorFlow model History object (see: https://www.tensorflow.org/api_docs/python/tf/keras/callbacks/History)\n",
        "  \"\"\"\n",
        "  loss = history.history['loss']\n",
        "  val_loss = history.history['val_loss']\n",
        "\n",
        "  accuracy = history.history['accuracy']\n",
        "  val_accuracy = history.history['val_accuracy']\n",
        "\n",
        "  epochs = range(len(history.history['loss']))\n",
        "\n",
        "  # Plot loss\n",
        "  plt.plot(epochs, loss, label='training_loss')\n",
        "  plt.plot(epochs, val_loss, label='val_loss')\n",
        "  plt.title('Loss')\n",
        "  plt.xlabel('Epochs')\n",
        "  plt.legend()\n",
        "\n",
        "  # Plot accuracy\n",
        "  plt.figure()\n",
        "  plt.plot(epochs, accuracy, label='training_accuracy')\n",
        "  plt.plot(epochs, val_accuracy, label='val_accuracy')\n",
        "  plt.title('Accuracy')\n",
        "  plt.xlabel('Epochs')\n",
        "  plt.legend();"
      ],
      "metadata": {
        "id": "HNQnz9s4SaeK"
      },
      "execution_count": 48,
      "outputs": []
    },
    {
      "cell_type": "code",
      "source": [
        "plot_loss_curves(model_history)"
      ],
      "metadata": {
        "colab": {
          "base_uri": "https://localhost:8080/",
          "height": 927
        },
        "id": "0jtE8xN9TrYl",
        "outputId": "231c9b92-f7cf-4f4c-a578-c15f44514ac0"
      },
      "execution_count": 49,
      "outputs": [
        {
          "output_type": "display_data",
          "data": {
            "text/plain": [
              "<Figure size 640x480 with 1 Axes>"
            ],
            "image/png": "[encoded data removed]"
          },
          "metadata": {}
        },
        {
          "output_type": "display_data",
          "data": {
            "text/plain": [
              "<Figure size 640x480 with 1 Axes>"
            ],
            "image/png": "[encoded data removed]"
          },
          "metadata": {}
        }
      ]
    },
    {
      "cell_type": "code",
      "source": [
        "pred_results = model_bot.predict(([inputs_test,queries_test]))"
      ],
      "metadata": {
        "colab": {
          "base_uri": "https://localhost:8080/"
        },
        "id": "5BV-JaD8Txsv",
        "outputId": "353720bd-baae-4264-8b5b-1ea72dbeb72d"
      },
      "execution_count": 50,
      "outputs": [
        {
          "output_type": "stream",
          "name": "stdout",
          "text": [
            "32/32 [==============================] - 1s 4ms/step\n"
          ]
        }
      ]
    },
    {
      "cell_type": "code",
      "source": [
        "test_data[0][2]"
      ],
      "metadata": {
        "colab": {
          "base_uri": "https://localhost:8080/",
          "height": 35
        },
        "id": "gQDIhGXqUYR4",
        "outputId": "46f7d626-b927-49e8-969e-0c1e841e0995"
      },
      "execution_count": 53,
      "outputs": [
        {
          "output_type": "execute_result",
          "data": {
            "text/plain": [
              "'no'"
            ],
            "application/vnd.google.colaboratory.intrinsic+json": {
              "type": "string"
            }
          },
          "metadata": {},
          "execution_count": 53
        }
      ]
    },
    {
      "cell_type": "code",
      "source": [
        "val_max = np.argmax(pred_results[0])"
      ],
      "metadata": {
        "id": "BBilR7utUZ6r"
      },
      "execution_count": 54,
      "outputs": []
    },
    {
      "cell_type": "code",
      "source": [
        "for key, val in tokenizer.word_index.items():\n",
        "  if val==val_max:\n",
        "    k = key"
      ],
      "metadata": {
        "id": "kH05SBcQUpTL"
      },
      "execution_count": 55,
      "outputs": []
    },
    {
      "cell_type": "code",
      "source": [
        "print(k)"
      ],
      "metadata": {
        "colab": {
          "base_uri": "https://localhost:8080/"
        },
        "id": "g0NgurVwUymD",
        "outputId": "76c109ec-6abe-48a8-8bca-ef620ec77b0a"
      },
      "execution_count": 56,
      "outputs": [
        {
          "output_type": "stream",
          "name": "stdout",
          "text": [
            "no\n"
          ]
        }
      ]
    },
    {
      "cell_type": "code",
      "source": [
        "my_story = \"John left the kitchen . Sandra dropped the football in the garden .\""
      ],
      "metadata": {
        "id": "GX5cSkWLUzvf"
      },
      "execution_count": 57,
      "outputs": []
    },
    {
      "cell_type": "code",
      "source": [
        "my_story.split()"
      ],
      "metadata": {
        "colab": {
          "base_uri": "https://localhost:8080/"
        },
        "id": "FYDfGMCWVEN3",
        "outputId": "09b655fd-b54a-4aac-b920-483f1f2551e3"
      },
      "execution_count": 58,
      "outputs": [
        {
          "output_type": "execute_result",
          "data": {
            "text/plain": [
              "['John',\n",
              " 'left',\n",
              " 'the',\n",
              " 'kitchen',\n",
              " '.',\n",
              " 'Sandra',\n",
              " 'dropped',\n",
              " 'the',\n",
              " 'football',\n",
              " 'in',\n",
              " 'the',\n",
              " 'garden',\n",
              " '.']"
            ]
          },
          "metadata": {},
          "execution_count": 58
        }
      ]
    },
    {
      "cell_type": "code",
      "source": [
        "my_question = \"Is the football in the garden ?\""
      ],
      "metadata": {
        "id": "y3LY4VegVFT0"
      },
      "execution_count": 59,
      "outputs": []
    },
    {
      "cell_type": "code",
      "source": [
        "my_question.split()"
      ],
      "metadata": {
        "colab": {
          "base_uri": "https://localhost:8080/"
        },
        "id": "XoyFX3NWVLPJ",
        "outputId": "27244839-ac7f-4952-c189-b3802ea5cbdc"
      },
      "execution_count": 60,
      "outputs": [
        {
          "output_type": "execute_result",
          "data": {
            "text/plain": [
              "['Is', 'the', 'football', 'in', 'the', 'garden', '?']"
            ]
          },
          "metadata": {},
          "execution_count": 60
        }
      ]
    },
    {
      "cell_type": "code",
      "source": [
        "mydata = [(my_story.split(), my_question.split(), 'yes')]"
      ],
      "metadata": {
        "id": "KCuqgWDgVM8V"
      },
      "execution_count": 61,
      "outputs": []
    },
    {
      "cell_type": "code",
      "source": [
        "print(mydata)"
      ],
      "metadata": {
        "colab": {
          "base_uri": "https://localhost:8080/"
        },
        "id": "mVStzDw9VWe0",
        "outputId": "40d8ae20-ad0d-45d8-fafe-beaff5c7ae7e"
      },
      "execution_count": 62,
      "outputs": [
        {
          "output_type": "stream",
          "name": "stdout",
          "text": [
            "[(['John', 'left', 'the', 'kitchen', '.', 'Sandra', 'dropped', 'the', 'football', 'in', 'the', 'garden', '.'], ['Is', 'the', 'football', 'in', 'the', 'garden', '?'], 'yes')]\n"
          ]
        }
      ]
    },
    {
      "cell_type": "code",
      "source": [
        "my_story, my_ques, my_ans = vectorize_stories(mydata,\n",
        "                                              tokenizer.word_index,\n",
        "                                              max_story_len,\n",
        "                                              max_question_len)"
      ],
      "metadata": {
        "id": "gF1j26ThVX9S"
      },
      "execution_count": 63,
      "outputs": []
    },
    {
      "cell_type": "code",
      "source": [
        "my_ans"
      ],
      "metadata": {
        "colab": {
          "base_uri": "https://localhost:8080/"
        },
        "id": "jlFSAlFZVp84",
        "outputId": "30cabf2a-d635-41ad-87bc-0723dda29b46"
      },
      "execution_count": 64,
      "outputs": [
        {
          "output_type": "execute_result",
          "data": {
            "text/plain": [
              "array([[0., 0., 0., 0., 0., 0., 0., 0., 0., 0., 1., 0., 0., 0., 0., 0.,\n",
              "        0., 0., 0., 0., 0., 0., 0., 0., 0., 0., 0., 0., 0., 0., 0., 0.,\n",
              "        0., 0., 0., 0., 0., 0.]])"
            ]
          },
          "metadata": {},
          "execution_count": 64
        }
      ]
    },
    {
      "cell_type": "code",
      "source": [
        "pred_results = model_bot.predict(([my_story,my_ques]))"
      ],
      "metadata": {
        "colab": {
          "base_uri": "https://localhost:8080/"
        },
        "id": "9fg8Ng35VrET",
        "outputId": "f27b0c53-24be-4aa4-c66a-6cf13fc2bf7d"
      },
      "execution_count": 65,
      "outputs": [
        {
          "output_type": "stream",
          "name": "stdout",
          "text": [
            "1/1 [==============================] - 0s 59ms/step\n"
          ]
        }
      ]
    },
    {
      "cell_type": "code",
      "source": [
        "val_max = np.argmax(pred_results[0])"
      ],
      "metadata": {
        "id": "Bj8kY8ZbV0xm"
      },
      "execution_count": 66,
      "outputs": []
    },
    {
      "cell_type": "code",
      "source": [
        "for key, val in tokenizer.word_index.items():\n",
        "  if val == val_max:\n",
        "    k = key"
      ],
      "metadata": {
        "id": "JssmMOMPV4ux"
      },
      "execution_count": 67,
      "outputs": []
    },
    {
      "cell_type": "code",
      "source": [
        "print(k)"
      ],
      "metadata": {
        "colab": {
          "base_uri": "https://localhost:8080/"
        },
        "id": "Ep2uw-VOV_Y-",
        "outputId": "0c10be81-df68-491c-a5dc-c479e1d5fcba"
      },
      "execution_count": 68,
      "outputs": [
        {
          "output_type": "stream",
          "name": "stdout",
          "text": [
            "yes\n"
          ]
        }
      ]
    },
    {
      "cell_type": "code",
      "source": [
        "pred_results[0][val_max]"
      ],
      "metadata": {
        "colab": {
          "base_uri": "https://localhost:8080/"
        },
        "id": "nvuf8vidWAMw",
        "outputId": "ad6c6baf-54db-4d4f-992d-46450a7b53e5"
      },
      "execution_count": 69,
      "outputs": [
        {
          "output_type": "execute_result",
          "data": {
            "text/plain": [
              "0.9913161"
            ]
          },
          "metadata": {},
          "execution_count": 69
        }
      ]
    },
    {
      "cell_type": "code",
      "source": [],
      "metadata": {
        "id": "UQwsMYkLWVWZ"
      },
      "execution_count": null,
      "outputs": []
    }
  ]
}